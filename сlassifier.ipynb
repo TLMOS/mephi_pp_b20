{
 "cells": [
  {
   "cell_type": "code",
   "execution_count": 1,
   "metadata": {},
   "outputs": [],
   "source": [
    "import cv2\n",
    "from torch.utils.data import Dataset\n",
    "from torch.utils.data.dataloader import DataLoader\n",
    "import os\n",
    "import pandas as pd\n",
    "from tqdm.notebook import tqdm\n",
    "import numpy as np\n",
    "import matplotlib.pyplot as plt\n",
    "import random\n",
    "import time\n",
    "from timm.models.efficientnet import efficientnet_b0, efficientnet_b1, \\\n",
    "efficientnet_b2, efficientnet_b3, efficientnet_b4, efficientnet_b5, \\\n",
    "efficientnet_b6, efficientnet_b7\n",
    "import torch\n",
    "from torch import nn\n",
    "from torch.nn.modules.dropout import Dropout\n",
    "from torch.nn.modules.linear import Linear\n",
    "from torch.nn.modules.pooling import AdaptiveAvgPool2d\n",
    "from sklearn.metrics import accuracy_score\n",
    "from ptflops.flops_counter import get_model_complexity_info\n",
    "from functools import partial\n",
    "\n",
    "from log import Log\n",
    "from deep_fake_classifier_dataset import DeepFakeClassifierDataset"
   ]
  },
  {
   "cell_type": "code",
   "execution_count": 2,
   "metadata": {},
   "outputs": [],
   "source": [
    "encoder_inits = {\n",
    "    'efficientnet_b0':partial(efficientnet_b0, pretrained=True),\n",
    "    'efficientnet_b1':partial(efficientnet_b1, pretrained=True),\n",
    "    'efficientnet_b2':partial(efficientnet_b2, pretrained=True),\n",
    "    'efficientnet_b3':partial(efficientnet_b3, pretrained=True),\n",
    "    'efficientnet_b4':partial(efficientnet_b4, pretrained=True),\n",
    "    'efficientnet_b5':partial(efficientnet_b5, pretrained=True),\n",
    "    'efficientnet_b6':partial(efficientnet_b6, pretrained=True),\n",
    "    'efficientnet_b7':partial(efficientnet_b7, pretrained=True),\n",
    "}"
   ]
  },
  {
   "cell_type": "code",
   "execution_count": 3,
   "metadata": {},
   "outputs": [],
   "source": [
    "class DeepFakeClassifier(nn.Module):\n",
    "    def __init__(self, encoder, encoder_features, dropout_rate=0.0):\n",
    "        super().__init__()\n",
    "        self.encoder = encoder\n",
    "        self.avg_pool = AdaptiveAvgPool2d((1, 1))\n",
    "        self.dropout = Dropout(dropout_rate)\n",
    "        self.fc = Linear(encoder_features, 1)\n",
    "\n",
    "    def forward(self, x):\n",
    "        x = self.encoder.forward_features(x)\n",
    "        x = self.avg_pool(x).flatten(1)\n",
    "        x = self.dropout(x)\n",
    "        x = self.fc(x)\n",
    "        x = torch.sigmoid(x)\n",
    "        return x\n",
    "    \n",
    "    def freeze_encoder(self):\n",
    "        self.encoder.eval()\n",
    "        for p in self.encoder.parameters():\n",
    "            p.requires_grad = False\n",
    "    \n",
    "    def unfreeze_encoder(self):\n",
    "        self.encoder.train()\n",
    "        for p in self.encoder.parameters():\n",
    "            p.requires_grad = True"
   ]
  },
  {
   "cell_type": "code",
   "execution_count": 12,
   "metadata": {},
   "outputs": [],
   "source": [
    "def train_epoch(model, optimizer, loss_functions, train_data_loader, history):\n",
    "    for imgs, labels, *_ in train_data_loader:\n",
    "        imgs = imgs.type(torch.float).cuda()\n",
    "        labels = labels.type(torch.float).reshape(-1, 1).cuda()\n",
    "        optimizer.zero_grad()\n",
    "        label_predicted = model(imgs)\n",
    "        loss = loss_functions(label_predicted, labels)\n",
    "        loss.backward()\n",
    "        optimizer.step()\n",
    "        history.append(np.mean(loss.cpu().detach().numpy()))"
   ]
  },
  {
   "cell_type": "code",
   "execution_count": 13,
   "metadata": {},
   "outputs": [],
   "source": [
    "def confident_strategy(pred, t=0.8):\n",
    "    pred = np.array(pred)\n",
    "    sz = len(pred)\n",
    "    fakes = np.count_nonzero(pred > t)\n",
    "    # 11 frames are detected as fakes with high probability\n",
    "    if fakes > sz // 2.5 and fakes > 11:\n",
    "        return np.mean(pred[pred > t])\n",
    "    elif np.count_nonzero(pred < 0.2) > 0.9 * sz:\n",
    "        return np.mean(pred[pred < 0.2])\n",
    "    else:\n",
    "        return np.mean(pred)"
   ]
  },
  {
   "cell_type": "code",
   "execution_count": 14,
   "metadata": {},
   "outputs": [],
   "source": [
    "def evaluate_classifier(model, data, metric, average_prediction=None, log=None):\n",
    "    model.eval()\n",
    "    \n",
    "    predicted_frame_labels = {}\n",
    "    labels = {}\n",
    "    for vid in data.metadata['vid'].unique():\n",
    "        predicted_frame_labels[vid] = []\n",
    "        labels[vid] = int(data.metadata[data.metadata['vid'] == vid]['label'].iloc[0])\n",
    "\n",
    "    data_loader = DataLoader(data)\n",
    "    iterable = log.tqdm(data_loader, 'Evaluating') if log is not None else tqdm(data_loader)\n",
    "    for img, label, vid, cid in iterable:\n",
    "        img = img.type(torch.float).cuda()\n",
    "        predicted_label = model(img).cpu().detach().numpy()\n",
    "        predicted_frame_labels[vid[0]].append(predicted_label)\n",
    "    input_size = img.cpu().detach().numpy().shape[1:]\n",
    "    \n",
    "    predicted_labels = {}\n",
    "    if average_prediction is not None:\n",
    "        for vid in predicted_frame_labels:\n",
    "            predicted_labels[vid] = int(average_prediction(predicted_frame_labels[vid]) >= 0.5)\n",
    "    else:\n",
    "        for vid in predicted_frame_labels:\n",
    "            predicted_labels[vid] = int(np.mean(predicted_frame_labels[vid]) >= 0.5)\n",
    "            \n",
    "    score = metric(list(labels.values()), list(predicted_labels.values()))\n",
    "    \n",
    "    if getattr(model, 'compute_average_flops_cost', None) is not None:\n",
    "        macs, params = model.compute_average_flops_cost()\n",
    "    else:\n",
    "        macs, params = get_model_complexity_info(model, input_size,\n",
    "                                                 print_per_layer_stat=False,\n",
    "                                                 as_strings=False)\n",
    "    \n",
    "    return score, macs, params"
   ]
  },
  {
   "cell_type": "code",
   "execution_count": 42,
   "metadata": {},
   "outputs": [],
   "source": [
    "def estimate_classifiers(data_train, data_test, classifier, classifier_params, encoders,\n",
    "                         loss_function, metric, batch_size, epochs, freeze_epochs=None,\n",
    "                         average_prediction=None, save_models=False):\n",
    "    log = Log()\n",
    "    log.log('{:-^70}'.format('Estimating {} classifiers'.format(len(encoders))))\n",
    "    summary = []\n",
    "    for encoder_id in encoders:\n",
    "        log.log('{:-^70}'.format(encoder_id))\n",
    "        encoder = encoder_inits[encoder_id]().cuda()\n",
    "        encoder_features = encoder.num_features\n",
    "        model = classifier(encoder, encoder_features, *classifier_params).cuda()\n",
    "        optimizer = torch.optim.Adam(model.parameters(), lr=0.0002)\n",
    "        loss_function = loss_function.cuda()\n",
    "        log.log('Initialized')\n",
    "        \n",
    "        history = []\n",
    "        mean_dur = 0\n",
    "        model.train()\n",
    "        if freeze_epochs is not None and freeze_epochs != 0:\n",
    "            model.freeze_encoder()\n",
    "\n",
    "        for epoch in log.tqdm(range(epochs), 'Training'):\n",
    "            if epoch == freeze_epochs:\n",
    "                model.unfreeze_encoder()\n",
    "\n",
    "            train_data_loader = DataLoader(data_train, batch_size=batch_size, shuffle=True,\n",
    "                                           drop_last=True)\n",
    "\n",
    "            train_epoch(model, optimizer, loss_function, train_data_loader, history)\n",
    "        fig, ax = plt.subplots(figsize=(10, 1.5))\n",
    "        ax.plot(history)\n",
    "        plt.show()\n",
    "        log.log('Loss: {}'.format(history[-1]))\n",
    "        \n",
    "        score, macs, params = evaluate_classifier(model, data_test, metric,\n",
    "                                                  average_prediction=average_prediction,\n",
    "                                                  log=log)\n",
    "        log.log(\"Score:     {}\\nMACs(B):   {}\\nParams(M): {}\".format(\n",
    "            round(score, 6), round(macs/10**9, 3), round(params/10**6, 3)))\n",
    "        \n",
    "        summary.append({'encoder':encoder_id, 'score':score, 'macs':macs, 'params':params,\n",
    "                       'history':history})\n",
    "        \n",
    "        if save_models:\n",
    "            save_time = int(time.time())\n",
    "            torch.save(model, os.path.join(models_path,\n",
    "                                           \"{}_{}_model.pth\".format(save_time, encoder_id)))\n",
    "            torch.save({'state_dict': model.state_dict()},\n",
    "                       os.path.join(models_path,\n",
    "                                    \"{}_{}_state_dict.pth\".format(save_time, encoder_id)))\n",
    "            log.log('Saved')\n",
    "    log.log('{:-^70}'.format('Complete'))\n",
    "    return summary"
   ]
  },
  {
   "cell_type": "code",
   "execution_count": 43,
   "metadata": {},
   "outputs": [],
   "source": [
    "data_path = \"original_data\"\n",
    "processed_data_path = \"processed_data\"\n",
    "models_path = \"models\"\n",
    "image_size = 380"
   ]
  },
  {
   "cell_type": "code",
   "execution_count": 47,
   "metadata": {},
   "outputs": [],
   "source": [
    "encoders = ['efficientnet_b0', 'efficientnet_b1']\n",
    "batch_size = 4\n",
    "epochs = 10\n",
    "freeze_epochs = 3\n",
    "dropout_rate = 0.15\n",
    "learning_rate = 0.0002"
   ]
  },
  {
   "cell_type": "code",
   "execution_count": 48,
   "metadata": {},
   "outputs": [],
   "source": [
    "metadata_train = pd.read_csv(os.path.join(processed_data_path, 'train.csv'))\n",
    "metadata_test = pd.read_csv(os.path.join(processed_data_path, 'test.csv'))\n",
    "\n",
    "#Костыль для тестов\n",
    "idx = np.arange(len(metadata_train))\n",
    "np.random.shuffle(idx)\n",
    "part = metadata_train.loc[idx[:64]].reset_index()\n",
    "part = part[part.columns[1:]]\n",
    "#Конец костыля\n",
    "\n",
    "data_train = DeepFakeClassifierDataset(part, processed_data_path, image_size, mode='train')\n",
    "\n",
    "#Костыль\n",
    "idx = np.arange(len(metadata_test))\n",
    "np.random.shuffle(idx)\n",
    "part = metadata_test.loc[idx[:64]].reset_index()\n",
    "part = part[part.columns[1:]]\n",
    "#Конец костыля\n",
    "\n",
    "data_test = DeepFakeClassifierDataset(part, processed_data_path, image_size, mode='test')"
   ]
  },
  {
   "cell_type": "code",
   "execution_count": 49,
   "metadata": {},
   "outputs": [
    {
     "name": "stdout",
     "output_type": "stream",
     "text": [
      "0:00:00 -----------------------Estimating 2 classifiers-----------------------\n",
      "0:00:00 ---------------------------efficientnet_b0----------------------------\n",
      "0:00:00 Initialized\n"
     ]
    },
    {
     "data": {
      "application/vnd.jupyter.widget-view+json": {
       "model_id": "d03434813696466a8ddb1c64e89fb3df",
       "version_major": 2,
       "version_minor": 0
      },
      "text/plain": [
       "HBox(children=(FloatProgress(value=0.0, description='0:00:00 Training', max=10.0, style=ProgressStyle(descript…"
      ]
     },
     "metadata": {},
     "output_type": "display_data"
    },
    {
     "name": "stdout",
     "output_type": "stream",
     "text": [
      "\n"
     ]
    },
    {
     "data": {
      "image/png": "[encoded data removed]",
      "text/plain": [
       "<Figure size 720x108 with 1 Axes>"
      ]
     },
     "metadata": {
      "needs_background": "light"
     },
     "output_type": "display_data"
    },
    {
     "name": "stdout",
     "output_type": "stream",
     "text": [
      "0:00:41 Loss: 0.12219859659671783\n"
     ]
    },
    {
     "data": {
      "application/vnd.jupyter.widget-view+json": {
       "model_id": "dd1bceb936384b7d8875674f92f99bd6",
       "version_major": 2,
       "version_minor": 0
      },
      "text/plain": [
       "HBox(children=(FloatProgress(value=0.0, description='0:00:41 Evaluating', max=64.0, style=ProgressStyle(descri…"
      ]
     },
     "metadata": {},
     "output_type": "display_data"
    },
    {
     "name": "stdout",
     "output_type": "stream",
     "text": [
      "\n",
      "0:00:45 Score:     0.825397\n",
      "0:00:45 MACs(B):   1.17\n",
      "0:00:45 Params(M): 5.29\n",
      "0:00:46 Saved\n",
      "0:00:46 ---------------------------efficientnet_b1----------------------------\n",
      "0:00:46 Initialized\n"
     ]
    },
    {
     "data": {
      "application/vnd.jupyter.widget-view+json": {
       "model_id": "3abf095a4ee148b092f85c8d94c80744",
       "version_major": 2,
       "version_minor": 0
      },
      "text/plain": [
       "HBox(children=(FloatProgress(value=0.0, description='0:00:46 Training', max=10.0, style=ProgressStyle(descript…"
      ]
     },
     "metadata": {},
     "output_type": "display_data"
    },
    {
     "name": "stdout",
     "output_type": "stream",
     "text": [
      "\n"
     ]
    },
    {
     "data": {
      "image/png": "[encoded data removed]",
      "text/plain": [
       "<Figure size 720x108 with 1 Axes>"
      ]
     },
     "metadata": {
      "needs_background": "light"
     },
     "output_type": "display_data"
    },
    {
     "name": "stdout",
     "output_type": "stream",
     "text": [
      "0:01:33 Loss: 0.12627620995044708\n"
     ]
    },
    {
     "data": {
      "application/vnd.jupyter.widget-view+json": {
       "model_id": "2db997f3f7c94a039a0a756614185645",
       "version_major": 2,
       "version_minor": 0
      },
      "text/plain": [
       "HBox(children=(FloatProgress(value=0.0, description='0:01:33 Evaluating', max=64.0, style=ProgressStyle(descri…"
      ]
     },
     "metadata": {},
     "output_type": "display_data"
    },
    {
     "name": "stdout",
     "output_type": "stream",
     "text": [
      "\n",
      "0:01:35 Score:     0.84127\n",
      "0:01:35 MACs(B):   1.726\n",
      "0:01:35 Params(M): 7.795\n",
      "0:01:36 Saved\n",
      "0:01:36 -------------------------------Complete-------------------------------\n"
     ]
    }
   ],
   "source": [
    "summary = estimate_classifiers(data_train, data_test, classifier=DeepFakeClassifier, \n",
    "                     classifier_params=(dropout_rate,), encoders=encoders, \n",
    "                     loss_function=torch.nn.BCELoss(), metric=accuracy_score,\n",
    "                     batch_size=batch_size, epochs=epochs, freeze_epochs=freeze_epochs,\n",
    "                     average_prediction=confident_strategy, save_models=True)"
   ]
  }
 ],
 "metadata": {
  "kernelspec": {
   "display_name": "Python 3",
   "language": "python",
   "name": "python3"
  },
  "language_info": {
   "codemirror_mode": {
    "name": "ipython",
    "version": 3
   },
   "file_extension": ".py",
   "mimetype": "text/x-python",
   "name": "python",
   "nbconvert_exporter": "python",
   "pygments_lexer": "ipython3",
   "version": "3.7.6"
  }
 },
 "nbformat": 4,
 "nbformat_minor": 4
}
