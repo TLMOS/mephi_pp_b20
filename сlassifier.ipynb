{
 "cells": [
  {
   "cell_type": "code",
   "execution_count": 16,
   "metadata": {},
   "outputs": [],
   "source": [
    "import cv2\n",
    "from torch.utils.data import Dataset\n",
    "from torch.utils.data.dataloader import DataLoader\n",
    "import os\n",
    "import pandas as pd\n",
    "import json\n",
    "from tqdm.notebook import tqdm\n",
    "import numpy as np\n",
    "import matplotlib.pyplot as plt\n",
    "import time\n",
    "from timm.models.efficientnet import tf_efficientnet_b0_ns\n",
    "import torch\n",
    "from torch import nn\n",
    "from torch.nn.modules.dropout import Dropout\n",
    "from torch.nn.modules.linear import Linear\n",
    "from torch.nn.modules.pooling import AdaptiveAvgPool2d\n",
    "from sklearn.metrics import accuracy_score"
   ]
  },
  {
   "cell_type": "code",
   "execution_count": 2,
   "metadata": {},
   "outputs": [],
   "source": [
    "data_path = \"original_data\"\n",
    "processed_data_path = \"processed_data\"\n",
    "models_path = \"models\"\n",
    "batch_size = 8\n",
    "epochs = 10\n",
    "freeze_epochs = 2\n",
    "display_step = 1\n",
    "save_num = 1"
   ]
  },
  {
   "cell_type": "code",
   "execution_count": 3,
   "metadata": {},
   "outputs": [],
   "source": [
    "metadata_train = pd.read_csv(os.path.join(processed_data_path, 'train.csv'))"
   ]
  },
  {
   "cell_type": "code",
   "execution_count": 4,
   "metadata": {},
   "outputs": [],
   "source": [
    "class DeepFakeClassifierDataset(Dataset):\n",
    "    def __init__(self, metadata, processed_data_path):\n",
    "        self.metadata = metadata\n",
    "        self.processed_data_path = processed_data_path\n",
    "    \n",
    "    def __getitem__(self, index):\n",
    "        vid, cid, label = self.metadata.loc[index]\n",
    "        img_path = os.path.join(self.processed_data_path, 'crops', vid, '{}.png'.format(cid))\n",
    "        img = cv2.imread(img_path)\n",
    "        img = cv2.cvtColor(img, cv2.COLOR_BGR2RGB)\n",
    "        img = np.moveaxis(img, 2, 0)\n",
    "        return img, label, vid, cid\n",
    "        \n",
    "    def __len__(self):\n",
    "        return len(self.metadata)"
   ]
  },
  {
   "cell_type": "code",
   "execution_count": 5,
   "metadata": {},
   "outputs": [],
   "source": [
    "class DeepFakeClassifier(nn.Module):\n",
    "    def __init__(self, encoder, encoder_features, dropout_rate=0.0):\n",
    "        super().__init__()\n",
    "        self.encoder = encoder\n",
    "        self.avg_pool = AdaptiveAvgPool2d((1, 1))\n",
    "        self.dropout = Dropout(dropout_rate)\n",
    "        self.fc = Linear(encoder_features, 1)\n",
    "\n",
    "    def forward(self, x):\n",
    "        x = self.encoder.forward_features(x)\n",
    "        x = self.avg_pool(x).flatten(1)\n",
    "        x = self.dropout(x)\n",
    "        x = self.fc(x)\n",
    "        x = torch.sigmoid(x)\n",
    "        return x"
   ]
  },
  {
   "cell_type": "code",
   "execution_count": 6,
   "metadata": {},
   "outputs": [],
   "source": [
    "def train_epoch(model, optimizer, loss_functions, train_data_loader, history):\n",
    "    for imgs, labels, *_ in train_data_loader:\n",
    "        imgs = imgs.type(torch.float).cuda()\n",
    "        labels = labels.type(torch.float).reshape(-1, 1).cuda()\n",
    "        optimizer.zero_grad()\n",
    "        label_predicted = model(imgs)\n",
    "        loss = loss_functions(label_predicted, labels)\n",
    "        loss.backward()\n",
    "        optimizer.step()\n",
    "        history.append(loss.cpu().detach().numpy())"
   ]
  },
  {
   "cell_type": "code",
   "execution_count": 7,
   "metadata": {},
   "outputs": [],
   "source": [
    "#Костыль для тестов\n",
    "idx = np.arange(len(metadata_train))\n",
    "np.random.shuffle(idx)\n",
    "part = metadata_train.loc[idx[:500]].reset_index()\n",
    "part = part[part.columns[1:]]\n",
    "#Конец костыля\n",
    "\n",
    "data_train = DeepFakeClassifierDataset(part, processed_data_path)"
   ]
  },
  {
   "cell_type": "code",
   "execution_count": 8,
   "metadata": {},
   "outputs": [],
   "source": [
    "encoder = tf_efficientnet_b0_ns(pretrained=True).cuda()\n",
    "encoder_features = encoder.num_features\n",
    "model = DeepFakeClassifier(encoder, encoder_features, 0.15).cuda()"
   ]
  },
  {
   "cell_type": "code",
   "execution_count": 9,
   "metadata": {},
   "outputs": [],
   "source": [
    "optimizer = torch.optim.Adam(model.parameters(), lr=0.0002)\n",
    "loss_function = torch.nn.BCELoss().cuda()\n",
    "history = []"
   ]
  },
  {
   "cell_type": "code",
   "execution_count": 10,
   "metadata": {
    "scrolled": false
   },
   "outputs": [
    {
     "name": "stdout",
     "output_type": "stream",
     "text": [
      "Epoch 1 loss: 12.962689399719238 duration: 18.877 estimated: 169\n",
      "Epoch 2 loss: 10.297396659851074 duration: 7.566 estimated: 105\n",
      "Epoch 3 loss: 6.965525150299072 duration: 21.982 estimated: 112\n",
      "Epoch 4 loss: 5.258538246154785 duration: 21.752 estimated: 105\n",
      "Epoch 5 loss: 4.21992826461792 duration: 21.794 estimated: 91\n",
      "Epoch 6 loss: 3.5226690769195557 duration: 21.838 estimated: 75\n",
      "Epoch 7 loss: 3.0215208530426025 duration: 21.773 estimated: 58\n",
      "Epoch 8 loss: 2.645254611968994 duration: 22.05 estimated: 39\n",
      "Epoch 9 loss: 1.0959208011627197 duration: 21.932 estimated: 19\n",
      "Epoch 10 loss: 0.15178142488002777 duration: 21.903 estimated: 0\n"
     ]
    }
   ],
   "source": [
    "model.train()\n",
    "if freeze_epochs is not None and freeze_epochs != 0:\n",
    "    model.encoder.eval()\n",
    "    for p in model.encoder.parameters():\n",
    "        p.requires_grad = False\n",
    "mean_dur = 0\n",
    "\n",
    "for epoch in range(epochs):\n",
    "    if epoch == freeze_epochs:\n",
    "        model.encoder.train()\n",
    "        for p in model.encoder.parameters():\n",
    "            p.requires_grad = True\n",
    "    start = time.time()\n",
    "    \n",
    "    train_data_loader = DataLoader(data_train, batch_size=batch_size, shuffle=True,\n",
    "                                   pin_memory=False, drop_last=True)\n",
    "    train_epoch(model, optimizer, loss_function, train_data_loader, history)\n",
    "    \n",
    "    dur = time.time() - start\n",
    "    mean_dur = (mean_dur*epoch + dur)/(epoch + 1)\n",
    "    estimated = mean_dur * (epochs - epoch - 1)\n",
    "    \n",
    "    print('Epoch {} loss: {} duration: {} estimated: {}'.format(\n",
    "        epoch + 1, np.mean(history[-len(data_train):]), \n",
    "        round(dur, 3), int(estimated)))"
   ]
  },
  {
   "cell_type": "code",
   "execution_count": 15,
   "metadata": {},
   "outputs": [
    {
     "data": {
      "text/plain": [
       "[<matplotlib.lines.Line2D at 0x16f9da4aa88>]"
      ]
     },
     "execution_count": 15,
     "metadata": {},
     "output_type": "execute_result"
    },
    {
     "data": {
      "image/png": "[encoded data removed]",
      "text/plain": [
       "<Figure size 432x288 with 1 Axes>"
      ]
     },
     "metadata": {
      "needs_background": "light"
     },
     "output_type": "display_data"
    }
   ],
   "source": [
    "plt.plot(history[freeze_epochs * (len(history) // epochs):])"
   ]
  },
  {
   "cell_type": "code",
   "execution_count": 24,
   "metadata": {},
   "outputs": [
    {
     "name": "stdout",
     "output_type": "stream",
     "text": [
      "Save models? Current save number is 1.\n",
      "y\n"
     ]
    }
   ],
   "source": [
    "print(\"Save model? Current save number is {}.\".format(save_num+1))\n",
    "if(input().lower()[0] == \"y\"):\n",
    "    save_num += 1\n",
    "    torch.save(model, os.path.join(models_path, \"classifier_{}.pth\".format(save_num)))\n",
    "    torch.save({'state_dict': model.state_dict()},\n",
    "               os.path.join(models_path, \"classifier_state_dict_{}.pth\".format(save_num)))"
   ]
  },
  {
   "cell_type": "code",
   "execution_count": 9,
   "metadata": {},
   "outputs": [
    {
     "name": "stdout",
     "output_type": "stream",
     "text": [
      "Load model?\n",
      "y\n",
      "Load number: 1\n"
     ]
    }
   ],
   "source": [
    "print(\"Load model?\")\n",
    "if(input().lower()[0] == \"y\"):\n",
    "    load_num = input(\"Load number: \")\n",
    "    state_dict = torch.load(os.path.join(models_path, \"classifier_state_dict_{}.pth\".format(load_num)))\n",
    "    model.load_state_dict(state_dict['state_dict'])"
   ]
  },
  {
   "cell_type": "code",
   "execution_count": 11,
   "metadata": {},
   "outputs": [],
   "source": [
    "metadata_test = pd.read_csv(os.path.join(processed_data_path, 'test.csv'))\n",
    "\n",
    "#Костыль\n",
    "idx = np.arange(len(metadata_test))\n",
    "np.random.shuffle(idx)\n",
    "part = metadata_test.loc[idx[:500]].reset_index()\n",
    "part = part[part.columns[1:]]\n",
    "#Конец костыля\n",
    "\n",
    "data_test = DeepFakeClassifierDataset(part, processed_data_path)"
   ]
  },
  {
   "cell_type": "code",
   "execution_count": 29,
   "metadata": {},
   "outputs": [
    {
     "data": {
      "application/vnd.jupyter.widget-view+json": {
       "model_id": "94f37411dd694a63b2dec8c169d9004f",
       "version_major": 2,
       "version_minor": 0
      },
      "text/plain": [
       "HBox(children=(FloatProgress(value=0.0, max=500.0), HTML(value='')))"
      ]
     },
     "metadata": {},
     "output_type": "display_data"
    },
    {
     "name": "stdout",
     "output_type": "stream",
     "text": [
      "\n",
      "Accuracy: 0.9436619718309859\n"
     ]
    }
   ],
   "source": [
    "model.eval()\n",
    "\n",
    "predicted_labels = {}\n",
    "labels = {}\n",
    "for vid in data_test.metadata['vid'].unique():\n",
    "    predicted_labels[vid] = []\n",
    "    labels[vid] = int(data_test.metadata[data_test.metadata['vid'] == vid]['label'].iloc[0])\n",
    "\n",
    "test_data_loader = DataLoader(data_test)\n",
    "for img, label, vid, cid in tqdm(test_data_loader):\n",
    "    img = img.type(torch.float).cuda()\n",
    "    predicted_label = model(img).cpu().detach().numpy()\n",
    "    predicted_labels[vid[0]].append(predicted_label)\n",
    "\n",
    "for vid in predicted_labels:\n",
    "    predicted_labels[vid] = int(np.mean(predicted_labels[vid]) >= 0.5)\n",
    "    \n",
    "print('Accuracy: {}'.format(accuracy_score(list(labels.values()),\n",
    "                                           list(predicted_labels.values()))))"
   ]
  }
 ],
 "metadata": {
  "kernelspec": {
   "display_name": "Python 3",
   "language": "python",
   "name": "python3"
  },
  "language_info": {
   "codemirror_mode": {
    "name": "ipython",
    "version": 3
   },
   "file_extension": ".py",
   "mimetype": "text/x-python",
   "name": "python",
   "nbconvert_exporter": "python",
   "pygments_lexer": "ipython3",
   "version": "3.7.6"
  }
 },
 "nbformat": 4,
 "nbformat_minor": 4
}
